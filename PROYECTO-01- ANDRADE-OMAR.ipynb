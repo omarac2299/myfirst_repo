{
 "cells": [
  {
   "cell_type": "markdown",
   "id": "3b52583c",
   "metadata": {},
   "source": [
    "# Introducción"
   ]
  },
  {
   "cell_type": "markdown",
   "id": "d5757990",
   "metadata": {},
   "source": [
    "$LifeStore$ es una tienda virtual que maneja una amplia gama de artículos, sin embargo, la gerencia se ha percatado que tiene una considerable acumulación de inventario. Se nos ha solicitado que se haga un análisis de rotación de productos para identificar desde los productos más vendidos, los productos rezagados, los productos con mejores y peores reseñas de acuerdo a las evaluaciones del consumidor y como último dato, nos solicitan que les informemos del total de ingresos generado este año así como identificar los meses que tuvieron el mayor número de ventas y el mayor número de ingresos. Finalmente, se entregará una estrategia de productos a retirar del mercado, además de una sugerencia para reducir la acumulación de inventario."
   ]
  },
  {
   "cell_type": "markdown",
   "id": "e88a46ce",
   "metadata": {},
   "source": [
    "# Definición del Código"
   ]
  },
  {
   "cell_type": "code",
   "execution_count": 1,
   "id": "b5168e6b",
   "metadata": {
    "ExecuteTime": {
     "end_time": "2022-02-14T01:57:26.243514Z",
     "start_time": "2022-02-14T01:57:26.157951Z"
    }
   },
   "outputs": [],
   "source": [
    "\"\"\"\n",
    "This is the LifeStore_SalesList data:\n",
    "\n",
    "lifestore_searches = [id_search, id product]\n",
    "lifestore_sales = [id_sale, id_product, score (from 1 to 5), date, refund (1 for true or 0 to false)]\n",
    "lifestore_products = [id_product, name, price, category, stock]\n",
    "\"\"\"\n",
    "from lifestore_file import lifestore_searches, lifestore_sales, lifestore_products"
   ]
  },
  {
   "cell_type": "markdown",
   "id": "19bd8fe9",
   "metadata": {},
   "source": [
    "## Login de Acceso"
   ]
  },
  {
   "cell_type": "code",
   "execution_count": 2,
   "id": "9faa13d2",
   "metadata": {
    "ExecuteTime": {
     "end_time": "2022-02-14T01:57:54.191294Z",
     "start_time": "2022-02-14T01:57:26.255612Z"
    }
   },
   "outputs": [
    {
     "name": "stdout",
     "output_type": "stream",
     "text": [
      "Bienvenido al sistema!\n",
      "Ingresa tu usuario y contraseña a continuación\n",
      "Usuario: Omar2299\n",
      "Contrase;a: 11052009\n",
      "Hola de nuevo!\n",
      "A continuación se desplega el reporte\n"
     ]
    }
   ],
   "source": [
    "usuarioAccedio = False\n",
    "intentos = 0\n",
    "\n",
    "mensaje_ingreso = 'Bienvenido al sistema!\\nIngresa tu usuario y contraseña a continuación'\n",
    "print(mensaje_ingreso)\n",
    "\n",
    "while not usuarioAccedio:\n",
    "    usuario = input('Usuario: ')\n",
    "    contras = input('Contrase;a: ')\n",
    "    intentos += 1\n",
    "    if usuario == 'Omar2299' and contras == '11052009':\n",
    "        usuarioAccedio = True\n",
    "        print('Hola de nuevo!')\n",
    "    else:\n",
    "        print(f'Tienes {3 - intentos} intentos restantes')\n",
    "        if usuario == 'Omar2299':\n",
    "            print('Te equivocaste en la contrase;a')\n",
    "        else:\n",
    "            print(f'El usuario: \"{usuario}\" no esta registrado')\n",
    "            \n",
    "    if intentos == 3:\n",
    "        exit()\n",
    "\n",
    "print('A continuación se desplega el reporte')\n"
   ]
  },
  {
   "cell_type": "markdown",
   "id": "003c2ea6",
   "metadata": {},
   "source": [
    "## Productos más vendidos y productos rezagados"
   ]
  },
  {
   "cell_type": "markdown",
   "id": "8c30d286",
   "metadata": {},
   "source": [
    "### Productos más vendidos y más buscados"
   ]
  },
  {
   "cell_type": "code",
   "execution_count": 3,
   "id": "1ecf673d",
   "metadata": {
    "ExecuteTime": {
     "end_time": "2022-02-14T01:57:54.229745Z",
     "start_time": "2022-02-14T01:57:54.209176Z"
    }
   },
   "outputs": [],
   "source": [
    "\"\"\"Por comodidad se generaron la siguientes variables, cuya información está relacionada al\n",
    "id del producto, su nombre y el precio, al menos para este primer análisis\"\"\"\n",
    "id_and_prod = [[prod[0], prod[1]] for prod in lifestore_products]\n",
    "id_prod_price = [[prod[0], prod[1], prod[2]] for prod in lifestore_products]"
   ]
  },
  {
   "cell_type": "code",
   "execution_count": 4,
   "id": "52e79b73",
   "metadata": {
    "ExecuteTime": {
     "end_time": "2022-02-14T01:57:54.329516Z",
     "start_time": "2022-02-14T01:57:54.243130Z"
    }
   },
   "outputs": [
    {
     "name": "stdout",
     "output_type": "stream",
     "text": [
      "[1, 1, 5, 0, 24, 7, 2020]\n",
      "[2, 1, 5, 0, 27, 7, 2020]\n",
      "[3, 2, 5, 0, 24, 2, 2020]\n",
      "[4, 2, 5, 0, 22, 5, 2020]\n"
     ]
    }
   ],
   "source": [
    "\"\"\"Antes de empezar a ejecutar toda la secuencia de código, el administrador del proyecto decidió visualizar\n",
    "los tipos de datos en la tabla lifestore_sales, visualizando que el tipo de dato de la fecha estaba como \n",
    "string. La secuencia que se muestra a contiuación, se encarga de separar la fecha por día, mes y año para luego\n",
    "convertir los datos a tipo entero y luego añadirlos a su registro correspondiente. Finalmente se remueve la\n",
    "fecha en formato string para cada registro\"\"\"\n",
    "new_sales = lifestore_sales.copy()\n",
    "for venta in new_sales:\n",
    "    dia = venta[3][:2]\n",
    "    mes = venta[3][3:5]\n",
    "    anio = venta[3][6:]\n",
    "    if dia not in venta:\n",
    "        venta.append(int(dia))\n",
    "    if mes not in venta:\n",
    "        venta.append(int(mes))\n",
    "    else:\n",
    "        venta.append(mes)\n",
    "    if anio not in venta:\n",
    "        venta.append(int(anio))\n",
    "for venta in new_sales:\n",
    "    venta.remove(venta[3])\n",
    "c = 1\n",
    "for v in new_sales:\n",
    "    if c < 5:\n",
    "        print(v)\n",
    "    c += 1\n",
    "# Ahora new_sales = [[id_sale,id_product,score,refund,day,month,year]]"
   ]
  },
  {
   "cell_type": "code",
   "execution_count": 5,
   "id": "f2e8ac9e",
   "metadata": {
    "ExecuteTime": {
     "end_time": "2022-02-14T01:57:54.458465Z",
     "start_time": "2022-02-14T01:57:54.335350Z"
    }
   },
   "outputs": [
    {
     "name": "stdout",
     "output_type": "stream",
     "text": [
      "[2020, 2019, 2002]\n"
     ]
    }
   ],
   "source": [
    "\"\"\"Como este reporte solo es efectivo para el año 2020, se verifica que si hay existencia de datos atípicos, para\n",
    "así no considerarlos en las siguientes ejecuciones de código. La secuencia a continuación, muestra los años que\n",
    "se encontraron dentro de la tabla\"\"\"\n",
    "anios_dist = []\n",
    "for venta in new_sales:\n",
    "    if venta[-1] not in anios_dist:\n",
    "        anios_dist.append(venta[-1])\n",
    "print(anios_dist)"
   ]
  },
  {
   "cell_type": "code",
   "execution_count": 6,
   "id": "86749cb6",
   "metadata": {
    "ExecuteTime": {
     "end_time": "2022-02-14T01:57:54.599795Z",
     "start_time": "2022-02-14T01:57:54.462826Z"
    }
   },
   "outputs": [
    {
     "name": "stdout",
     "output_type": "stream",
     "text": [
      "SSD Kingston A400, 120GB, SATA III, 2.5'', 7mm con id: 54 tuvo 263 busquedas\n",
      "\n",
      "SSD Adata Ultimate SU800, 256GB, SATA III, 2.5'', 7mm con id: 57 tuvo 107 busquedas\n",
      "\n",
      "Tarjeta Madre ASUS micro ATX TUF B450M-PLUS GAMING, S-AM4, AMD B450, HDMI, 64GB DDR4 para AMD con id: 29 tuvo 60 busquedas\n",
      "\n",
      "Procesador AMD Ryzen 5 2600, S-AM4, 3.40GHz, Six-Core, 16MB L3 Cache, con Disipador Wraith Stealth con id: 3 tuvo 55 busquedas\n",
      "\n",
      "Procesador AMD Ryzen 3 3200G con Gráficos Radeon Vega 8, S-AM4, 3.60GHz, Quad-Core, 4MB L3, con Disipador Wraith Spire con id: 4 tuvo 41 busquedas\n",
      "\n",
      "Logitech Audífonos Gamer G635 7.1, Alámbrico, 1.5 Metros, 3.5mm, Negro/Azul con id: 85 tuvo 35 busquedas\n",
      "\n",
      "TV Monitor LED 24TL520S-PU 24, HD, Widescreen, HDMI, Negro con id: 67 tuvo 32 busquedas\n",
      "\n",
      "Procesador Intel Core i7-9700K, S-1151, 3.60GHz, 8-Core, 12MB Smart Cache (9na. Generación Coffee Lake) con id: 7 tuvo 31 busquedas\n",
      "\n",
      "Procesador Intel Core i3-9100F, S-1151, 3.60GHz, Quad-Core, 6MB Cache (9na. Generación - Coffee Lake) con id: 5 tuvo 30 busquedas\n",
      "\n",
      "SSD XPG SX8200 Pro, 256GB, PCI Express, M.2 con id: 47 tuvo 30 busquedas\n",
      "\n"
     ]
    }
   ],
   "source": [
    "\"\"\"Para los 10 productos con MAYORES BÚSQUEDAS, de la lista lifestore_searches, tomamos el segundo elemento de\n",
    "cada registro que corresponde al id del producto para meterlo en la lista busqueda, es decir, hay números que\n",
    "se repiten; después generamos el dic_of_searches donde contamos cuantas veces se repite el id dentro de la lista \n",
    "busqueda para después aplicarle la función sorted que nos brinda una lista de tuplas que podemos acomodar de \n",
    "mayor a menor con ayuda de la función lambda, le ponemos un contador condicional para que solo se nos devuelvan\n",
    "los primeros diez productos\"\"\"\n",
    "busqueda = []\n",
    "\n",
    "for item in lifestore_searches:\n",
    "    busqueda.append(item[1])\n",
    "    \n",
    "dict_of_searches = {item_id:busqueda.count(item_id) for item_id in busqueda}\n",
    "sorted_by_value = sorted(dict_of_searches.items(), key = lambda v: v[1], reverse = True)\n",
    "\n",
    "conta = 1\n",
    "for i in sorted_by_value:\n",
    "    if conta < 11:\n",
    "         for pr in id_and_prod:\n",
    "            if i[0] == pr[0]:\n",
    "                print(f'{pr[1]} con id: {i[0]} tuvo {i[1]} busquedas\\n')\n",
    "    conta += 1"
   ]
  },
  {
   "cell_type": "code",
   "execution_count": 7,
   "id": "dd54f5b7",
   "metadata": {
    "ExecuteTime": {
     "end_time": "2022-02-14T01:57:54.718564Z",
     "start_time": "2022-02-14T01:57:54.610403Z"
    }
   },
   "outputs": [
    {
     "name": "stdout",
     "output_type": "stream",
     "text": [
      "SSD Kingston A400, 120GB, SATA III, 2.5'', 7mm con id: 54 tuvo 47 ventas\n",
      "\n",
      "Procesador AMD Ryzen 5 2600, S-AM4, 3.40GHz, Six-Core, 16MB L3 Cache, con Disipador Wraith Stealth con id: 3 tuvo 42 ventas\n",
      "\n",
      "Procesador Intel Core i3-9100F, S-1151, 3.60GHz, Quad-Core, 6MB Cache (9na. Generación - Coffee Lake) con id: 5 tuvo 20 ventas\n",
      "\n",
      "Tarjeta Madre ASRock Micro ATX B450M Steel Legend, S-AM4, AMD B450, HDMI, 64GB DDR4 para AMD con id: 42 tuvo 18 ventas\n",
      "\n",
      "SSD Adata Ultimate SU800, 256GB, SATA III, 2.5'', 7mm con id: 57 tuvo 15 ventas\n",
      "\n"
     ]
    }
   ],
   "source": [
    "\"\"\"Para los 5 productos con MAYORES VENTAS, el proceso es análogo al código anterior, sin embargo, las considera\n",
    "ciones cambian. Ahora trabajamos con la lista new_sales, pero consideramos solamente consideramos al año 2020,\n",
    "también debemos tener en cuenta que de las ventas que se realizaron, los productos devueltos no deben considerarse\n",
    "como una venta, por lo que se contabilizan aparte, se crean diccionarios para contabilizar por id como en la celda\n",
    "anterior y además se crea un diccionario de ventas netas donde se hace la sustracción correspondiente entre\n",
    "los diccionarios de ventas y devoluciones\"\"\"\n",
    "ventas = []\n",
    "devsss = []\n",
    "for item in new_sales:\n",
    "    if item[-1]== anios_dist[0]:# Con este condicional solo estamos teneiendo en cuenta al año 2020\n",
    "        if item[3] == 0:\n",
    "            ventas.append(item[1])\n",
    "        else:\n",
    "            devsss.append(item[1])\n",
    "    \n",
    "dict_of_sales = {item_id:ventas.count(item_id) for item_id in ventas}\n",
    "dict_of_devsss = {d:devsss.count(d) for d in devsss}\n",
    "\n",
    "dict_of_vn  = {key: dict_of_sales[key] - dict_of_devsss.get(key, 0)\n",
    "                       for key in dict_of_sales.keys()}\n",
    "\n",
    "sorted_by_value1 = sorted(dict_of_vn.items(), key = lambda v: v[1], reverse = True)\n",
    "\n",
    "conta = 1\n",
    "for i in sorted_by_value1:\n",
    "    if conta < 6:\n",
    "        for pr in id_and_prod:\n",
    "            if i[0] == pr[0]:\n",
    "                print(f'{pr[1]} con id: {i[0]} tuvo {i[1]} ventas\\n')\n",
    "        conta += 1"
   ]
  },
  {
   "cell_type": "markdown",
   "id": "77e8c82d",
   "metadata": {},
   "source": [
    "### Productos menos vendidos y menos buscados"
   ]
  },
  {
   "cell_type": "code",
   "execution_count": 8,
   "id": "fa305ede",
   "metadata": {
    "ExecuteTime": {
     "end_time": "2022-02-14T01:57:54.833402Z",
     "start_time": "2022-02-14T01:57:54.723641Z"
    }
   },
   "outputs": [
    {
     "name": "stdout",
     "output_type": "stream",
     "text": [
      "{'procesadores': [1, 2, 3, 4, 5, 6, 7, 8, 9], 'tarjetas de video': [10, 11, 12, 13, 14, 15, 16, 17, 18, 19, 20, 21, 22, 23, 24, 25, 26, 27, 28], 'tarjetas madre': [29, 30, 31, 32, 33, 34, 35, 36, 37, 38, 39, 40, 41, 42, 43, 44, 45, 46], 'discos duros': [47, 48, 49, 50, 51, 52, 53, 54, 55, 56, 57, 58, 59], 'memorias usb': [60, 61], 'pantallas': [62, 63, 64, 65, 66, 67, 68, 69, 70, 71, 72, 73], 'bocinas': [74, 75, 76, 77, 78, 79, 80, 81, 82, 83], 'audifonos': [84, 85, 86, 87, 88, 89, 90, 91, 92, 93, 94, 95, 96]}\n"
     ]
    }
   ],
   "source": [
    "\"\"\"Aquí lo que se busca generar es un diccionario cuyas llaves sean las categorías y en los valores sea una lista\n",
    "con los productos correspondientes a las mismas, esto nos ayudara para las siguientes secuencias\"\"\"\n",
    "id_categoria = [[prod[0], prod[3]] for prod in lifestore_products]\n",
    "prods_clasificados = {}\n",
    "for par in id_categoria:\n",
    "    cat = par[1]\n",
    "    if cat not in prods_clasificados.keys():\n",
    "        prods_clasificados[cat] = []\n",
    "    prods_clasificados[cat].append(par[0])\n",
    "print(prods_clasificados)"
   ]
  },
  {
   "cell_type": "code",
   "execution_count": 9,
   "id": "e9e74be9",
   "metadata": {
    "ExecuteTime": {
     "end_time": "2022-02-14T01:57:54.961626Z",
     "start_time": "2022-02-14T01:57:54.839405Z"
    }
   },
   "outputs": [
    {
     "name": "stdout",
     "output_type": "stream",
     "text": [
      "Para la categoría de procesadores se reportaron las siguientes busquedas de productos: \n",
      "\n",
      "Procesador Intel Core i3-8100, S-1151, 3.60GHz, Quad-Core, 6MB Smart Cache (8va. Generación - Coffee Lake) con id: 9 tuvo 1 busqueda(s)\n",
      "\n",
      "Para la categoría de tarjetas de video se reportaron las siguientes busquedas de productos: \n",
      "\n",
      "MSI GeForce 210, 1GB GDDR3, DVI, VGA, HDCP, PCI Express 2.0 con id: 10 tuvo 1 busqueda(s)\n",
      "\n",
      "Tarjeta de Video Asus NVIDIA GeForce GTX 1050 Ti Phoenix, 4GB 128-bit GDDR5, PCI Express 3.0 con id: 13 tuvo 2 busqueda(s)\n",
      "\n",
      "Tarjeta de Video EVGA NVIDIA GeForce GT 710, 2GB 64-bit GDDR3, PCI Express 2.0 con id: 14 tuvo 0 busqueda(s)\n",
      "\n",
      "Tarjeta de Video EVGA NVIDIA GeForce GTX 1660 Ti SC Ultra Gaming, 6GB 192-bit GDDR6, PCI 3.0 con id: 15 tuvo 4 busqueda(s)\n",
      "\n",
      "Tarjeta de Video EVGA NVIDIA GeForce RTX 2060 SC ULTRA Gaming, 6GB 192-bit GDDR6, PCI Express 3.0 con id: 16 tuvo 0 busqueda(s)\n",
      "\n",
      "Tarjeta de Video Gigabyte AMD Radeon R7 370 OC, 2GB 256-bit GDDR5, PCI Express 3.0 con id: 17 tuvo 3 busqueda(s)\n",
      "\n",
      "Tarjeta de Video Gigabyte NVIDIA GeForce GTX 1650 OC Low Profile, 4GB 128-bit GDDR5, PCI Express 3.0 x16 con id: 19 tuvo 0 busqueda(s)\n",
      "\n",
      "Tarjeta de Video Gigabyte NVIDIA GeForce RTX 2060 SUPER WINDFORCE OC, 8 GB 256 bit GDDR6, PCI Express x16 3.0 con id: 20 tuvo 0 busqueda(s)\n",
      "\n",
      "Tarjeta de Video MSI Radeon X1550, 128MB 64 bit GDDR2, PCI Express x16 con id: 23 tuvo 0 busqueda(s)\n",
      "\n",
      "Tarjeta de Video PNY NVIDIA GeForce RTX 2080, 8GB 256-bit GDDR6, PCI Express 3.0  con id: 24 tuvo 0 busqueda(s)\n",
      "\n",
      "Tarjeta de Video VisionTek AMD Radeon HD5450, 2GB GDDR3, PCI Express x16 con id: 27 tuvo 1 busqueda(s)\n",
      "\n",
      "Para la categoría de tarjetas madre se reportaron las siguientes busquedas de productos: \n",
      "\n",
      "Tarjeta Madre AORUS ATX Z390 ELITE, S-1151, Intel Z390, HDMI, 64GB DDR4 para Intel con id: 30 tuvo 0 busqueda(s)\n",
      "\n",
      "Tarjeta Madre ASRock Z390 Phantom Gaming 4, S-1151, Intel Z390, HDMI, 64GB DDR4 para Intel  con id: 32 tuvo 0 busqueda(s)\n",
      "\n",
      "Tarjeta Madre ASUS ATX PRIME Z390-A, S-1151, Intel Z390, HDMI, 64GB DDR4 para Intel  con id: 33 tuvo 0 busqueda(s)\n",
      "\n",
      "Tarjeta Madre ASUS ATX ROG STRIX B550-F GAMING WI-FI, S-AM4, AMD B550, HDMI, max. 128GB DDR4 para AMD con id: 34 tuvo 0 busqueda(s)\n",
      "\n",
      "Tarjeta Madre Gigabyte micro ATX Z390 M GAMING, S-1151, Intel Z390, HDMI, 64GB DDR4 para Intel  con id: 35 tuvo 1 busqueda(s)\n",
      "\n",
      "Tarjeta Madre Gigabyte micro ATX Z490M GAMING X (rev. 1.0), Intel Z490, HDMI, 128GB DDR4 para Intel con id: 36 tuvo 0 busqueda(s)\n",
      "\n",
      "Tarjeta Madre ASRock ATX Z490 STEEL LEGEND, S-1200, Intel Z490, HDMI, 128GB DDR4 para Intel con id: 37 tuvo 0 busqueda(s)\n",
      "\n",
      "Tarjeta Madre Gigabyte Micro ATX H310M DS2 2.0, S-1151, Intel H310, 32GB DDR4 para Intel  con id: 38 tuvo 0 busqueda(s)\n",
      "\n",
      "ASUS T. Madre uATX M4A88T-M, S-AM3, DDR3 para Phenom II/Athlon II/Sempron 100 con id: 39 tuvo 3 busqueda(s)\n",
      "\n",
      "Tarjeta Madre ASUS micro ATX Prime H370M-Plus/CSM, S-1151, Intel H370, HDMI, 64GB DDR4 para Intel con id: 41 tuvo 0 busqueda(s)\n",
      "\n",
      "Tarjeta Madre ASUS ATX ROG STRIX Z390-E GAMING, S-1151, Intel Z390, HDMI, 64GB DDR4 para Intel con id: 43 tuvo 0 busqueda(s)\n",
      "\n",
      "Tarjeta Madre ASRock ATX H110 Pro BTC+, S-1151, Intel H110, 32GB DDR4, para Intel con id: 45 tuvo 1 busqueda(s)\n",
      "\n",
      "Tarjeta Madre Gigabyte micro ATX GA-H110M-DS2, S-1151, Intel H110, 32GB DDR4 para Intel con id: 46 tuvo 4 busqueda(s)\n",
      "\n",
      "Para la categoría de discos duros se reportaron las siguientes busquedas de productos: \n",
      "\n",
      "SSD Addlink Technology S70, 512GB, PCI Express 3.0, M.2 con id: 53 tuvo 0 busqueda(s)\n",
      "\n",
      "SSD para Servidor Supermicro SSD-DM128-SMCMVN1, 128GB, SATA III, mSATA, 6Gbit/s con id: 55 tuvo 0 busqueda(s)\n",
      "\n",
      "SSD para Servidor Lenovo Thinksystem S4500, 480GB, SATA III, 3.5'', 7mm con id: 56 tuvo 2 busqueda(s)\n",
      "\n",
      "SSD para Servidor Lenovo Thinksystem S4510, 480GB, SATA III, 2.5'', 7mm con id: 58 tuvo 0 busqueda(s)\n",
      "\n",
      "SSD Samsung 860 EVO, 1TB, SATA III, M.2 con id: 59 tuvo 1 busqueda(s)\n",
      "\n",
      "Para la categoría de memorias usb se reportaron las siguientes busquedas de productos: \n",
      "\n",
      "Kit Memoria RAM Corsair Dominator Platinum DDR4, 3200MHz, 16GB (2x 8GB), Non-ECC, CL16, XMP con id: 60 tuvo 0 busqueda(s)\n",
      "\n",
      "Kit Memoria RAM Corsair Vengeance LPX DDR4, 2400MHz, 32GB, Non-ECC, CL16 con id: 61 tuvo 0 busqueda(s)\n",
      "\n",
      "Para la categoría de pantallas se reportaron las siguientes busquedas de productos: \n",
      "\n",
      "Makena Smart TV LED 32S2 32'', HD, Widescreen, Gris con id: 62 tuvo 0 busqueda(s)\n",
      "\n",
      "Seiki TV LED SC-39HS950N 38.5, HD, Widescreen, Negro con id: 63 tuvo 4 busqueda(s)\n",
      "\n",
      "Samsung TV LED LH43QMREBGCXGO 43, 4K Ultra HD, Widescreen, Negro con id: 64 tuvo 0 busqueda(s)\n",
      "\n",
      "Samsung Smart TV LED UN70RU7100FXZX 70, 4K Ultra HD, Widescreen, Negro con id: 65 tuvo 0 busqueda(s)\n",
      "\n",
      "Makena Smart TV LED 40S2 40'', Full HD, Widescreen, Negro con id: 68 tuvo 0 busqueda(s)\n",
      "\n",
      "Hisense Smart TV LED 40H5500F 39.5, Full HD, Widescreen, Negro con id: 69 tuvo 0 busqueda(s)\n",
      "\n",
      "Samsung Smart TV LED 43, Full HD, Widescreen, Negro con id: 70 tuvo 1 busqueda(s)\n",
      "\n",
      "Samsung Smart TV LED UN32J4290AF 32, HD, Widescreen, Negro con id: 71 tuvo 0 busqueda(s)\n",
      "\n",
      "Hisense Smart TV LED 50H8F 49.5, 4K Ultra HD, Widescreen, Negro con id: 72 tuvo 0 busqueda(s)\n",
      "\n",
      "Samsung Smart TV LED UN55TU7000FXZX 55, 4K Ultra HD, Widescreen, Negro/Gris con id: 73 tuvo 4 busqueda(s)\n",
      "\n",
      "Para la categoría de bocinas se reportaron las siguientes busquedas de productos: \n",
      "\n",
      "Lenovo Barra de Sonido, Alámbrico, 2.5W, USB, Negro con id: 75 tuvo 0 busqueda(s)\n",
      "\n",
      "Acteck Bocina con Subwoofer AXF-290, Bluetooth, Inalámbrico, 2.1, 18W RMS, 180W PMPO, USB, Negro con id: 76 tuvo 2 busqueda(s)\n",
      "\n",
      "Verbatim Bocina Portátil Mini, Bluetooth, Inalámbrico, 3W RMS, USB, Blanco con id: 77 tuvo 0 busqueda(s)\n",
      "\n",
      "Ghia Bocina Portátil BX300, Bluetooth, Inalámbrico, 40W RMS, USB, Rojo - Resistente al Agua con id: 78 tuvo 0 busqueda(s)\n",
      "\n",
      "Naceb Bocina Portátil NA-0301, Bluetooth, Inalámbrico, USB 2.0, Rojo con id: 79 tuvo 0 busqueda(s)\n",
      "\n",
      "Ghia Bocina Portátil BX800, Bluetooth, Inalámbrico, 2.1 Canales, 31W, USB, Negro con id: 80 tuvo 1 busqueda(s)\n",
      "\n",
      "Ghia Bocina Portátil BX900, Bluetooth, Inalámbrico, 2.1 Canales, 34W, USB, Negro - Resistente al Agua con id: 81 tuvo 0 busqueda(s)\n",
      "\n",
      "Ghia Bocina Portátil BX400, Bluetooth, Inalámbrico, 8W RMS, USB, Negro con id: 82 tuvo 0 busqueda(s)\n",
      "\n",
      "Ghia Bocina Portátil BX500, Bluetooth, Inalámbrico, 10W RMS, USB, Gris con id: 83 tuvo 0 busqueda(s)\n",
      "\n",
      "Para la categoría de audifonos se reportaron las siguientes busquedas de productos: \n",
      "\n",
      "ASUS Audífonos Gamer ROG Theta 7.1, Alámbrico, USB C, Negro con id: 86 tuvo 0 busqueda(s)\n",
      "\n",
      "Acer Audífonos Gamer Galea 300, Alámbrico, 3.5mm, Negro con id: 87 tuvo 0 busqueda(s)\n",
      "\n",
      "Audífonos Gamer Balam Rush Orphix RGB 7.1, Alámbrico, USB, Negro con id: 88 tuvo 0 busqueda(s)\n",
      "\n",
      "Energy Sistem Audífonos con Micrófono Headphones 1, Bluetooh, Inalámbrico, Negro/Grafito con id: 90 tuvo 0 busqueda(s)\n",
      "\n",
      "Genius GHP-400S Audífonos, Alámbrico, 1.5 Metros, Rosa con id: 91 tuvo 2 busqueda(s)\n",
      "\n",
      "Getttech Audífonos con Micrófono Sonority, Alámbrico, 1.2 Metros, 3.5mm, Negro/Rosa con id: 92 tuvo 0 busqueda(s)\n",
      "\n",
      "Ginga Audífonos con Micrófono GI18ADJ01BT-RO, Bluetooth, Alámbrico/Inalámbrico, 3.5mm, Rojo con id: 93 tuvo 1 busqueda(s)\n",
      "\n",
      "Iogear Audífonos Gamer GHG601, Alámbrico, 1.2 Metros, 3.5mm, Negro con id: 95 tuvo 3 busqueda(s)\n",
      "\n",
      "Klip Xtreme Audífonos Blast, Bluetooth, Inalámbrico, Negro/Verde con id: 96 tuvo 0 busqueda(s)\n",
      "\n"
     ]
    }
   ],
   "source": [
    "# 10 Productos por categoría con MENORES BUSQUEDAS\n",
    "\"\"\"Con ayuda del diccionario: prods_clasificados y el dic_of_searches ejecutamos secuencias for e if donde lo \n",
    "que se busca hacer es un cruce entre los valores del primer diccionario y las llaves del segundo para así\n",
    "por categoria poder imprimir el nombre del producto, su id y la cantidad de busquedas, de no encontrar uno de \n",
    "los valores del primer diccionario en las llaves del segundo contemplamos que eso significa 0 busquedas\n",
    "por lo que le generamos su propia secuencia if especial. Nota: Para la secuencia if j<5 se decidio que cualquier\n",
    "numero menor a 5 hace que un producto sea poco buscado.\"\"\"\n",
    "for k,v in prods_clasificados.items():\n",
    "    print(f'Para la categoría de {k} se reportaron las siguientes busquedas de productos: \\n')\n",
    "    for i in v:\n",
    "        for h,j in dict_of_searches.items():\n",
    "            if i == h:\n",
    "                if j < 5:\n",
    "                    for p in id_and_prod:\n",
    "                        if p[0]==i:\n",
    "                            print(f'{p[1]} con id: {i} tuvo {j} busqueda(s)\\n')\n",
    "        if i not in dict_of_searches.keys():\n",
    "            for p in id_and_prod:\n",
    "                    if p[0]==i:\n",
    "                        print(f'{p[1]} con id: {i} tuvo {0} busqueda(s)\\n')"
   ]
  },
  {
   "cell_type": "code",
   "execution_count": 10,
   "id": "906c60db",
   "metadata": {
    "ExecuteTime": {
     "end_time": "2022-02-14T01:57:55.084415Z",
     "start_time": "2022-02-14T01:57:54.980511Z"
    }
   },
   "outputs": [
    {
     "name": "stdout",
     "output_type": "stream",
     "text": [
      "Para la categoría de procesadores se reportaron las siguientes ventas: \n",
      "\n",
      "Procesador AMD Ryzen 3 3300X S-AM4, 3.80GHz, Quad-Core, 16MB L2 Cache con id: 1 tuvo 2 venta(s)\n",
      "\n",
      "Procesador Intel Core i9-9900K, S-1151, 3.60GHz, 8-Core, 16MB Smart Cache (9na. Generación Coffee Lake) con id: 6 tuvo 3 venta(s)\n",
      "\n",
      "Procesador Intel Core i5-9600K, S-1151, 3.70GHz, Six-Core, 9MB Smart Cache (9na. Generiación - Coffee Lake) con id: 8 tuvo 4 venta(s)\n",
      "\n",
      "Procesador Intel Core i3-8100, S-1151, 3.60GHz, Quad-Core, 6MB Smart Cache (8va. Generación - Coffee Lake) con id: 9 tuvo 0 venta(s)\n",
      "\n",
      "Para la categoría de tarjetas de video se reportaron las siguientes ventas: \n",
      "\n",
      "MSI GeForce 210, 1GB GDDR3, DVI, VGA, HDCP, PCI Express 2.0 con id: 10 tuvo 1 venta(s)\n",
      "\n",
      "Tarjeta de Video ASUS AMD Radeon RX 570, 4GB 256-bit GDDR5, PCI Express 3.0 con id: 11 tuvo 3 venta(s)\n",
      "\n",
      "Tarjeta de Video Asus NVIDIA GeForce GTX 1050 Ti Phoenix, 4GB 128-bit GDDR5, PCI Express 3.0 con id: 13 tuvo 1 venta(s)\n",
      "\n",
      "Tarjeta de Video EVGA NVIDIA GeForce GT 710, 2GB 64-bit GDDR3, PCI Express 2.0 con id: 14 tuvo 0 venta(s)\n",
      "\n",
      "Tarjeta de Video EVGA NVIDIA GeForce GTX 1660 Ti SC Ultra Gaming, 6GB 192-bit GDDR6, PCI 3.0 con id: 15 tuvo 0 venta(s)\n",
      "\n",
      "Tarjeta de Video EVGA NVIDIA GeForce RTX 2060 SC ULTRA Gaming, 6GB 192-bit GDDR6, PCI Express 3.0 con id: 16 tuvo 0 venta(s)\n",
      "\n",
      "Tarjeta de Video Gigabyte AMD Radeon R7 370 OC, 2GB 256-bit GDDR5, PCI Express 3.0 con id: 17 tuvo 0 venta(s)\n",
      "\n",
      "Tarjeta de Video Gigabyte NVIDIA GeForce GTX 1650 OC Low Profile, 4GB 128-bit GDDR5, PCI Express 3.0 x16 con id: 19 tuvo 0 venta(s)\n",
      "\n",
      "Tarjeta de Video Gigabyte NVIDIA GeForce RTX 2060 SUPER WINDFORCE OC, 8 GB 256 bit GDDR6, PCI Express x16 3.0 con id: 20 tuvo 0 venta(s)\n",
      "\n",
      "Tarjeta de Video MSI AMD Mech Radeon RX 5500 XT MECH Gaming OC, 8GB 128-bit GDDR6, PCI Express 4.0 con id: 21 tuvo 2 venta(s)\n",
      "\n",
      "Tarjeta de Video MSI NVIDIA GeForce GTX 1050 Ti OC, 4GB 128-bit GDDR5, PCI Express x16 3.0 con id: 22 tuvo 1 venta(s)\n",
      "\n",
      "Tarjeta de Video MSI Radeon X1550, 128MB 64 bit GDDR2, PCI Express x16 con id: 23 tuvo 0 venta(s)\n",
      "\n",
      "Tarjeta de Video PNY NVIDIA GeForce RTX 2080, 8GB 256-bit GDDR6, PCI Express 3.0  con id: 24 tuvo 0 venta(s)\n",
      "\n",
      "Tarjeta de Video Sapphire AMD Pulse Radeon RX 5500 XT Gaming, 8GB 128-bit GDDR6, PCI Express 4.0 con id: 25 tuvo 2 venta(s)\n",
      "\n",
      "Tarjeta de Video VisionTek AMD Radeon HD 5450, 1GB DDR3, PCI Express x16 2.1 con id: 26 tuvo 0 venta(s)\n",
      "\n",
      "Tarjeta de Video VisionTek AMD Radeon HD5450, 2GB GDDR3, PCI Express x16 con id: 27 tuvo 0 venta(s)\n",
      "\n",
      "Tarjeta de Video Zotac NVIDIA GeForce GTX 1660 Ti, 6GB 192-bit GDDR6, PCI Express x16 3.0 con id: 28 tuvo 1 venta(s)\n",
      "\n",
      "Para la categoría de tarjetas madre se reportaron las siguientes ventas: \n",
      "\n",
      "Tarjeta Madre AORUS ATX Z390 ELITE, S-1151, Intel Z390, HDMI, 64GB DDR4 para Intel con id: 30 tuvo 0 venta(s)\n",
      "\n",
      "Tarjeta Madre AORUS micro ATX B450 AORUS M (rev. 1.0), S-AM4, AMD B450, HDMI, 64GB DDR4 para AMD con id: 31 tuvo 0 venta(s)\n",
      "\n",
      "Tarjeta Madre ASRock Z390 Phantom Gaming 4, S-1151, Intel Z390, HDMI, 64GB DDR4 para Intel  con id: 32 tuvo 0 venta(s)\n",
      "\n",
      "Tarjeta Madre ASUS ATX PRIME Z390-A, S-1151, Intel Z390, HDMI, 64GB DDR4 para Intel  con id: 33 tuvo 2 venta(s)\n",
      "\n",
      "Tarjeta Madre ASUS ATX ROG STRIX B550-F GAMING WI-FI, S-AM4, AMD B550, HDMI, max. 128GB DDR4 para AMD con id: 34 tuvo 0 venta(s)\n",
      "\n",
      "Tarjeta Madre Gigabyte micro ATX Z390 M GAMING, S-1151, Intel Z390, HDMI, 64GB DDR4 para Intel  con id: 35 tuvo 0 venta(s)\n",
      "\n",
      "Tarjeta Madre Gigabyte micro ATX Z490M GAMING X (rev. 1.0), Intel Z490, HDMI, 128GB DDR4 para Intel con id: 36 tuvo 0 venta(s)\n",
      "\n",
      "Tarjeta Madre ASRock ATX Z490 STEEL LEGEND, S-1200, Intel Z490, HDMI, 128GB DDR4 para Intel con id: 37 tuvo 0 venta(s)\n",
      "\n",
      "Tarjeta Madre Gigabyte Micro ATX H310M DS2 2.0, S-1151, Intel H310, 32GB DDR4 para Intel  con id: 38 tuvo 0 venta(s)\n",
      "\n",
      "ASUS T. Madre uATX M4A88T-M, S-AM3, DDR3 para Phenom II/Athlon II/Sempron 100 con id: 39 tuvo 0 venta(s)\n",
      "\n",
      "Tarjeta Madre Gigabyte XL-ATX TRX40 Designare, S-sTRX4, AMD TRX40, 256GB DDR4 para AMD con id: 40 tuvo 1 venta(s)\n",
      "\n",
      "Tarjeta Madre ASUS micro ATX Prime H370M-Plus/CSM, S-1151, Intel H370, HDMI, 64GB DDR4 para Intel con id: 41 tuvo 0 venta(s)\n",
      "\n",
      "Tarjeta Madre ASUS ATX ROG STRIX Z390-E GAMING, S-1151, Intel Z390, HDMI, 64GB DDR4 para Intel con id: 43 tuvo 0 venta(s)\n",
      "\n",
      "Tarjeta Madre ASRock ATX H110 Pro BTC+, S-1151, Intel H110, 32GB DDR4, para Intel con id: 45 tuvo 0 venta(s)\n",
      "\n",
      "Tarjeta Madre Gigabyte micro ATX GA-H110M-DS2, S-1151, Intel H110, 32GB DDR4 para Intel con id: 46 tuvo 0 venta(s)\n",
      "\n",
      "Para la categoría de discos duros se reportaron las siguientes ventas: \n",
      "\n",
      "Kit SSD Kingston KC600, 1TB, SATA III, 2.5, 7mm con id: 49 tuvo 3 venta(s)\n",
      "\n",
      "SSD Crucial MX500, 1TB, SATA III, M.2 con id: 50 tuvo 1 venta(s)\n",
      "\n",
      "SSD Kingston UV500, 480GB, SATA III, mSATA con id: 51 tuvo 3 venta(s)\n",
      "\n",
      "SSD Western Digital WD Blue 3D NAND, 2TB, M.2 con id: 52 tuvo 2 venta(s)\n",
      "\n",
      "SSD Addlink Technology S70, 512GB, PCI Express 3.0, M.2 con id: 53 tuvo 0 venta(s)\n",
      "\n",
      "SSD para Servidor Supermicro SSD-DM128-SMCMVN1, 128GB, SATA III, mSATA, 6Gbit/s con id: 55 tuvo 0 venta(s)\n",
      "\n",
      "SSD para Servidor Lenovo Thinksystem S4500, 480GB, SATA III, 3.5'', 7mm con id: 56 tuvo 0 venta(s)\n",
      "\n",
      "SSD para Servidor Lenovo Thinksystem S4510, 480GB, SATA III, 2.5'', 7mm con id: 58 tuvo 0 venta(s)\n",
      "\n",
      "SSD Samsung 860 EVO, 1TB, SATA III, M.2 con id: 59 tuvo 0 venta(s)\n",
      "\n",
      "Para la categoría de memorias usb se reportaron las siguientes ventas: \n",
      "\n",
      "Kit Memoria RAM Corsair Dominator Platinum DDR4, 3200MHz, 16GB (2x 8GB), Non-ECC, CL16, XMP con id: 60 tuvo 1 venta(s)\n",
      "\n",
      "Kit Memoria RAM Corsair Vengeance LPX DDR4, 2400MHz, 32GB, Non-ECC, CL16 con id: 61 tuvo 0 venta(s)\n",
      "\n",
      "Para la categoría de pantallas se reportaron las siguientes ventas: \n",
      "\n",
      "Makena Smart TV LED 32S2 32'', HD, Widescreen, Gris con id: 62 tuvo 0 venta(s)\n",
      "\n",
      "Seiki TV LED SC-39HS950N 38.5, HD, Widescreen, Negro con id: 63 tuvo 0 venta(s)\n",
      "\n",
      "Samsung TV LED LH43QMREBGCXGO 43, 4K Ultra HD, Widescreen, Negro con id: 64 tuvo 0 venta(s)\n",
      "\n",
      "Samsung Smart TV LED UN70RU7100FXZX 70, 4K Ultra HD, Widescreen, Negro con id: 65 tuvo 0 venta(s)\n",
      "\n",
      "TCL Smart TV LED 55S425 54.6, 4K Ultra HD, Widescreen, Negro con id: 66 tuvo 1 venta(s)\n",
      "\n",
      "TV Monitor LED 24TL520S-PU 24, HD, Widescreen, HDMI, Negro con id: 67 tuvo 1 venta(s)\n",
      "\n",
      "Makena Smart TV LED 40S2 40'', Full HD, Widescreen, Negro con id: 68 tuvo 0 venta(s)\n",
      "\n",
      "Hisense Smart TV LED 40H5500F 39.5, Full HD, Widescreen, Negro con id: 69 tuvo 0 venta(s)\n",
      "\n",
      "Samsung Smart TV LED 43, Full HD, Widescreen, Negro con id: 70 tuvo 0 venta(s)\n",
      "\n",
      "Samsung Smart TV LED UN32J4290AF 32, HD, Widescreen, Negro con id: 71 tuvo 0 venta(s)\n",
      "\n",
      "Hisense Smart TV LED 50H8F 49.5, 4K Ultra HD, Widescreen, Negro con id: 72 tuvo 0 venta(s)\n",
      "\n",
      "Samsung Smart TV LED UN55TU7000FXZX 55, 4K Ultra HD, Widescreen, Negro/Gris con id: 73 tuvo 0 venta(s)\n",
      "\n",
      "Para la categoría de bocinas se reportaron las siguientes ventas: \n",
      "\n",
      "Logitech Bocinas para Computadora con Subwoofer G560, Bluetooth, Inalámbrico, 2.1, 120W RMS, USB, negro con id: 74 tuvo 2 venta(s)\n",
      "\n",
      "Lenovo Barra de Sonido, Alámbrico, 2.5W, USB, Negro con id: 75 tuvo 0 venta(s)\n",
      "\n",
      "Acteck Bocina con Subwoofer AXF-290, Bluetooth, Inalámbrico, 2.1, 18W RMS, 180W PMPO, USB, Negro con id: 76 tuvo 0 venta(s)\n",
      "\n",
      "Verbatim Bocina Portátil Mini, Bluetooth, Inalámbrico, 3W RMS, USB, Blanco con id: 77 tuvo 0 venta(s)\n",
      "\n",
      "Ghia Bocina Portátil BX300, Bluetooth, Inalámbrico, 40W RMS, USB, Rojo - Resistente al Agua con id: 78 tuvo 0 venta(s)\n",
      "\n",
      "Naceb Bocina Portátil NA-0301, Bluetooth, Inalámbrico, USB 2.0, Rojo con id: 79 tuvo 0 venta(s)\n",
      "\n",
      "Ghia Bocina Portátil BX800, Bluetooth, Inalámbrico, 2.1 Canales, 31W, USB, Negro con id: 80 tuvo 0 venta(s)\n",
      "\n",
      "Ghia Bocina Portátil BX900, Bluetooth, Inalámbrico, 2.1 Canales, 34W, USB, Negro - Resistente al Agua con id: 81 tuvo 0 venta(s)\n",
      "\n",
      "Ghia Bocina Portátil BX400, Bluetooth, Inalámbrico, 8W RMS, USB, Negro con id: 82 tuvo 0 venta(s)\n",
      "\n",
      "Ghia Bocina Portátil BX500, Bluetooth, Inalámbrico, 10W RMS, USB, Gris con id: 83 tuvo 0 venta(s)\n",
      "\n",
      "Para la categoría de audifonos se reportaron las siguientes ventas: \n",
      "\n",
      "Logitech Audífonos Gamer G332, Alámbrico, 2 Metros, 3.5mm, Negro/Rojo con id: 84 tuvo 1 venta(s)\n",
      "\n",
      "Logitech Audífonos Gamer G635 7.1, Alámbrico, 1.5 Metros, 3.5mm, Negro/Azul con id: 85 tuvo 2 venta(s)\n",
      "\n",
      "ASUS Audífonos Gamer ROG Theta 7.1, Alámbrico, USB C, Negro con id: 86 tuvo 0 venta(s)\n",
      "\n",
      "Acer Audífonos Gamer Galea 300, Alámbrico, 3.5mm, Negro con id: 87 tuvo 0 venta(s)\n",
      "\n",
      "Audífonos Gamer Balam Rush Orphix RGB 7.1, Alámbrico, USB, Negro con id: 88 tuvo 0 venta(s)\n",
      "\n",
      "Cougar Audífonos Gamer Phontum Essential, Alámbrico, 1.9 Metros, 3.5mm, Negro. con id: 89 tuvo 1 venta(s)\n",
      "\n",
      "Energy Sistem Audífonos con Micrófono Headphones 1, Bluetooh, Inalámbrico, Negro/Grafito con id: 90 tuvo 0 venta(s)\n",
      "\n",
      "Genius GHP-400S Audífonos, Alámbrico, 1.5 Metros, Rosa con id: 91 tuvo 0 venta(s)\n",
      "\n",
      "Getttech Audífonos con Micrófono Sonority, Alámbrico, 1.2 Metros, 3.5mm, Negro/Rosa con id: 92 tuvo 0 venta(s)\n",
      "\n",
      "Ginga Audífonos con Micrófono GI18ADJ01BT-RO, Bluetooth, Alámbrico/Inalámbrico, 3.5mm, Rojo con id: 93 tuvo 0 venta(s)\n",
      "\n",
      "HyperX Audífonos Gamer Cloud Flight para PC/PS4/PS4 Pro, Inalámbrico, USB, 3.5mm, Negro con id: 94 tuvo 1 venta(s)\n",
      "\n",
      "Iogear Audífonos Gamer GHG601, Alámbrico, 1.2 Metros, 3.5mm, Negro con id: 95 tuvo 0 venta(s)\n",
      "\n",
      "Klip Xtreme Audífonos Blast, Bluetooth, Inalámbrico, Negro/Verde con id: 96 tuvo 0 venta(s)\n",
      "\n"
     ]
    }
   ],
   "source": [
    "# 5 Productos por categoría con MENORES VENTAS\n",
    "\"\"\"Para este proceso la diferencia es que se utiliza el dict_of_vn (diccionario de ventas netas)\"\"\"\n",
    "for k,v in prods_clasificados.items():\n",
    "    print(f'Para la categoría de {k} se reportaron las siguientes ventas: \\n')\n",
    "    for i in v:\n",
    "        for h,j in dict_of_vn.items():\n",
    "            if i == h:\n",
    "                if j < 5:\n",
    "                    for p in id_and_prod:\n",
    "                        if p[0]==i:\n",
    "                            print(f'{p[1]} con id: {i} tuvo {j} venta(s)\\n')\n",
    "        if i not in dict_of_vn.keys():\n",
    "            for p in id_and_prod:\n",
    "                    if p[0]==i:\n",
    "                        print(f'{p[1]} con id: {i} tuvo {0} venta(s)\\n')"
   ]
  },
  {
   "cell_type": "markdown",
   "id": "c8bbe2e5",
   "metadata": {},
   "source": [
    "## Productos por reseña en el servicio"
   ]
  },
  {
   "cell_type": "markdown",
   "id": "7684937a",
   "metadata": {},
   "source": [
    "### Productos con mejores reseñas"
   ]
  },
  {
   "cell_type": "code",
   "execution_count": 11,
   "id": "f8e20de9",
   "metadata": {
    "ExecuteTime": {
     "end_time": "2022-02-14T01:57:55.202477Z",
     "start_time": "2022-02-14T01:57:55.089717Z"
    }
   },
   "outputs": [
    {
     "name": "stdout",
     "output_type": "stream",
     "text": [
      "Los 5 productos con las mejores reseñas fueron:\n",
      "\n",
      "SSD Adata Ultimate SU800, 256GB, SATA III, 2.5'', 7mm con id: 57 y puntaje de 4.866666666666666 \n",
      "\n",
      "Procesador AMD Ryzen 5 2600, S-AM4, 3.40GHz, Six-Core, 16MB L3 Cache, con Disipador Wraith Stealth con id: 3 y puntaje de 4.809523809523809 \n",
      "\n",
      "Tarjeta de Video ASUS NVIDIA GeForce GTX 1660 SUPER EVO OC, 6GB 192-bit GDDR6, PCI Express x16 3.0 con id: 12 y puntaje de 4.777777777777778 \n",
      "\n",
      "SSD Kingston A400, 120GB, SATA III, 2.5'', 7mm con id: 54 y puntaje de 4.72 \n",
      "\n",
      "Procesador Intel Core i3-9100F, S-1151, 3.60GHz, Quad-Core, 6MB Cache (9na. Generación - Coffee Lake) con id: 5 y puntaje de 4.7 \n",
      "\n"
     ]
    }
   ],
   "source": [
    "resena_prod = {}\n",
    "for venta in lifestore_sales:\n",
    "    if venta[1] not in resena_prod.keys():\n",
    "        resena_prod[venta[1]] = []\n",
    "    resena_prod[venta[1]].append(venta[2])\n",
    "#print(resena_prod)\n",
    "for key in resena_prod:\n",
    "    resena_prod[key] = sum(resena_prod[key])/len(resena_prod[key])\n",
    "print(\"Los 5 productos con las mejores reseñas fueron:\\n\")    \n",
    "mejor_resena = sorted(resena_prod.items(), key = lambda v: v[1], reverse = True)\n",
    "#print(mejor_resena)\n",
    "conta = 1\n",
    "for i in mejor_resena:\n",
    "    if i[1] < 5:\n",
    "        if conta < 6:\n",
    "            for pr in id_and_prod:\n",
    "                if i[0] == pr[0]:\n",
    "                    print(f'{pr[1]} con id: {i[0]} y puntaje de {i[1]} \\n')\n",
    "        conta += 1"
   ]
  },
  {
   "cell_type": "markdown",
   "id": "3efb9903",
   "metadata": {},
   "source": [
    "Se observó que los productos con puntaje de 5 realmente tenian pocas ventas, por lo que posicionarlos para este ranking era generar información sesgada así que se optó por colocar los que tenian más ventas, es decir, más evaluaciones."
   ]
  },
  {
   "cell_type": "markdown",
   "id": "b849b31d",
   "metadata": {},
   "source": [
    "### Productos con peores reseñas"
   ]
  },
  {
   "cell_type": "code",
   "execution_count": 12,
   "id": "87fd27d1",
   "metadata": {
    "ExecuteTime": {
     "end_time": "2022-02-14T01:57:55.328958Z",
     "start_time": "2022-02-14T01:57:55.207654Z"
    }
   },
   "outputs": [
    {
     "name": "stdout",
     "output_type": "stream",
     "text": [
      "Los 5 productos con las peores reseñas fueron:\n",
      "\n",
      "Tarjeta de Video Gigabyte AMD Radeon R7 370 OC, 2GB 256-bit GDDR5, PCI Express 3.0 con id: 17 y puntaje de 1.0 \n",
      "\n",
      "Tarjeta Madre ASRock ATX H110 Pro BTC+, S-1151, Intel H110, 32GB DDR4, para Intel con id: 45 y puntaje de 1.0 \n",
      "\n",
      "Tarjeta Madre AORUS micro ATX B450 AORUS M (rev. 1.0), S-AM4, AMD B450, HDMI, 64GB DDR4 para AMD con id: 31 y puntaje de 1.8333333333333333 \n",
      "\n",
      "Tarjeta Madre Gigabyte micro ATX GA-H110M-DS2, S-1151, Intel H110, 32GB DDR4 para Intel con id: 46 y puntaje de 2.0 \n",
      "\n",
      "Cougar Audífonos Gamer Phontum Essential, Alámbrico, 1.9 Metros, 3.5mm, Negro. con id: 89 y puntaje de 3.0 \n",
      "\n"
     ]
    }
   ],
   "source": [
    "resena_prod1 = {}\n",
    "for venta in lifestore_sales:\n",
    "    if venta[1] not in resena_prod1.keys():\n",
    "        resena_prod1[venta[1]] = []\n",
    "    resena_prod1[venta[1]].append(venta[2])\n",
    "\n",
    "for key in resena_prod1:\n",
    "    resena_prod1[key] = sum(resena_prod1[key])/len(resena_prod1[key])\n",
    "print(\"Los 5 productos con las peores reseñas fueron:\\n\")    \n",
    "mejor_resena = sorted(resena_prod1.items(), key = lambda v: v[1], reverse = False)\n",
    "conta = 1\n",
    "for i in mejor_resena:\n",
    "    if conta < 6:\n",
    "         for pr in id_and_prod:\n",
    "            if i[0] == pr[0]:\n",
    "                print(f'{pr[1]} con id: {i[0]} y puntaje de {i[1]} \\n')\n",
    "    conta += 1"
   ]
  },
  {
   "cell_type": "markdown",
   "id": "6affee23",
   "metadata": {},
   "source": [
    "## Total de Ingresos y ventas promedio mensuales, meses con más ventas del año"
   ]
  },
  {
   "cell_type": "markdown",
   "id": "47964325",
   "metadata": {},
   "source": [
    "### Total de ingresos de la tabla"
   ]
  },
  {
   "cell_type": "code",
   "execution_count": 13,
   "id": "80da6dd1",
   "metadata": {
    "ExecuteTime": {
     "end_time": "2022-02-14T01:57:55.472228Z",
     "start_time": "2022-02-14T01:57:55.333821Z"
    }
   },
   "outputs": [
    {
     "name": "stdout",
     "output_type": "stream",
     "text": [
      "El total de ingresos brutos de la tienda fue de: $755709\n"
     ]
    }
   ],
   "source": [
    "\"\"\"Esta celda de código brindará los ingresos brutos de la tabla correspondientes al año 2020 a partir clasificar\n",
    "por id los ingresos generados\"\"\"\n",
    "dic_ingresos = {}\n",
    "for venta in new_sales:\n",
    "    if venta[-1] == anios_dist[0]:\n",
    "        if venta[1] not in dic_ingresos.keys():\n",
    "            dic_ingresos[venta[1]] = []\n",
    "        for clv in id_prod_price:\n",
    "            if venta[1] == clv[0]:\n",
    "                dic_ingresos[venta[1]].append(clv[2])\n",
    "for key in dic_ingresos:\n",
    "    dic_ingresos[key] = sum(dic_ingresos[key])\n",
    "print(f'El total de ingresos brutos de la tienda fue de: ${sum(dic_ingresos.values())}')"
   ]
  },
  {
   "cell_type": "code",
   "execution_count": 14,
   "id": "95db1de8",
   "metadata": {
    "ExecuteTime": {
     "end_time": "2022-02-14T01:57:55.568243Z",
     "start_time": "2022-02-14T01:57:55.478323Z"
    }
   },
   "outputs": [
    {
     "name": "stdout",
     "output_type": "stream",
     "text": [
      "El total de las devoluciones hacia la tienda durante 2020 fue de: $18052\n",
      " quedando así, un ingreso neto de: $737657\n"
     ]
    }
   ],
   "source": [
    "\"\"\"Esta celda brindará el monto total de las devoluciones en el año 2020, de igual forma que en la celda anterior,\n",
    "el diccionario clasificara por id las sumas de dinero devueltas. Al final se hace la diferencia entre los ingresos\n",
    "brutos y las devoluciones para obtener los ingresos netos\"\"\"\n",
    "dic_dev = {}\n",
    "for venta in new_sales:\n",
    "    if venta[-1] == anios_dist[0]: # Con esta condición garantizamos 2020\n",
    "        if venta[3] == 1:\n",
    "            if venta[1] not in dic_dev.keys():\n",
    "                dic_dev[venta[1]] = []\n",
    "            for clv in id_prod_price:\n",
    "                if venta[1] == clv[0]:\n",
    "                    dic_dev[venta[1]].append(clv[2])\n",
    "for key in dic_dev:\n",
    "    dic_dev[key] = sum(dic_dev[key])\n",
    "print(f'El total de las devoluciones hacia la tienda durante 2020 fue de: ${sum(dic_dev.values())}\\n quedando así, un ingreso neto de: ${sum(dic_ingresos.values())-sum(dic_dev.values())}')"
   ]
  },
  {
   "cell_type": "code",
   "execution_count": 15,
   "id": "52f987e7",
   "metadata": {
    "ExecuteTime": {
     "end_time": "2022-02-14T01:57:55.724318Z",
     "start_time": "2022-02-14T01:57:55.573880Z"
    }
   },
   "outputs": [
    {
     "name": "stdout",
     "output_type": "stream",
     "text": [
      "Procesador AMD Ryzen 5 2600, S-AM4, 3.40GHz, Six-Core, 16MB L3 Cache, con Disipador Wraith Stealth con id: 3 generó ingresos por: $129738\n",
      "\n",
      "Procesador Intel Core i7-9700K, S-1151, 3.60GHz, 8-Core, 12MB Smart Cache (9na. Generación Coffee Lake) con id: 7 generó ingresos por: $59913\n",
      "\n",
      "Tarjeta de Video ASUS NVIDIA GeForce GTX 1660 SUPER EVO OC, 6GB 192-bit GDDR6, PCI Express x16 3.0 con id: 12 generó ingresos por: $59571\n",
      "\n",
      "Procesador AMD Ryzen 5 3600, S-AM4, 3.60GHz, 32MB L3 Cache, con Disipador Wraith Stealth con id: 2 generó ingresos por: $50508\n",
      "\n",
      "Procesador Intel Core i3-9100F, S-1151, 3.60GHz, Quad-Core, 6MB Cache (9na. Generación - Coffee Lake) con id: 5 generó ingresos por: $35580\n",
      "\n",
      "Procesador Intel Core i9-9900K, S-1151, 3.60GHz, 8-Core, 16MB Smart Cache (9na. Generación Coffee Lake) con id: 6 generó ingresos por: $35427\n",
      "\n",
      "Tarjeta Madre ASUS micro ATX TUF B450M-PLUS GAMING, S-AM4, AMD B450, HDMI, 64GB DDR4 para AMD con id: 29 generó ingresos por: $32487\n",
      "\n",
      "Tarjeta Madre ASRock Micro ATX B450M Steel Legend, S-AM4, AMD B450, HDMI, 64GB DDR4 para AMD con id: 42 generó ingresos por: $32022\n",
      "\n",
      "Procesador AMD Ryzen 3 3200G con Gráficos Radeon Vega 8, S-AM4, 3.60GHz, Quad-Core, 4MB L3, con Disipador Wraith Spire con id: 4 generó ingresos por: $28717\n",
      "\n",
      "SSD Kingston A2000 NVMe, 1TB, PCI Express 3.0, M2 con id: 48 generó ingresos por: $23031\n",
      "\n",
      "Tarjeta de Video ASUS AMD Radeon RX 570, 4GB 256-bit GDDR5, PCI Express 3.0 con id: 11 generó ingresos por: $22197\n",
      "\n",
      "Procesador Intel Core i5-9600K, S-1151, 3.70GHz, Six-Core, 9MB Smart Cache (9na. Generiación - Coffee Lake) con id: 8 generó ingresos por: $21596\n",
      "\n",
      "Tarjeta Madre Gigabyte XL-ATX TRX40 Designare, S-sTRX4, AMD TRX40, 256GB DDR4 para AMD con id: 40 generó ingresos por: $17439\n",
      "\n",
      "Tarjeta Madre MSI ATX B450 TOMAHAWK MAX, S-AM4, AMD B450, 64GB DDR4 para AMD con id: 44 generó ingresos por: $16554\n",
      "\n",
      "SSD Adata Ultimate SU800, 256GB, SATA III, 2.5'', 7mm con id: 57 generó ingresos por: $13335\n",
      "\n",
      "SSD XPG SX8200 Pro, 256GB, PCI Express, M.2 con id: 47 generó ingresos por: $13299\n",
      "\n",
      "SSD Kingston A400, 120GB, SATA III, 2.5'', 7mm con id: 54 generó ingresos por: $12432\n",
      "\n",
      "SSD Western Digital WD Blue 3D NAND, 2TB, M.2 con id: 52 generó ingresos por: $11318\n",
      "\n",
      "Tarjeta de Video Sapphire AMD Pulse Radeon RX 5500 XT Gaming, 8GB 128-bit GDDR6, PCI Express 4.0 con id: 25 generó ingresos por: $11058\n",
      "\n",
      "Tarjeta de Video Gigabyte NVIDIA GeForce GT 1030, 2GB 64-bit GDDR5, PCI Express x16 3.0 con id: 18 generó ingresos por: $10995\n",
      "\n",
      "Tarjeta de Video MSI AMD Mech Radeon RX 5500 XT MECH Gaming OC, 8GB 128-bit GDDR6, PCI Express 4.0 con id: 21 generó ingresos por: $10318\n",
      "\n",
      "Tarjeta de Video Zotac NVIDIA GeForce GTX 1660 Ti, 6GB 192-bit GDDR6, PCI Express x16 3.0 con id: 28 generó ingresos por: $9579\n",
      "\n",
      "Kit SSD Kingston KC600, 1TB, SATA III, 2.5, 7mm con id: 49 generó ingresos por: $9417\n",
      "\n",
      "Tarjeta Madre ASUS ATX PRIME Z390-A, S-1151, Intel Z390, HDMI, 64GB DDR4 para Intel  con id: 33 generó ingresos por: $8538\n",
      "\n",
      "Logitech Bocinas para Computadora con Subwoofer G560, Bluetooth, Inalámbrico, 2.1, 120W RMS, USB, negro con id: 74 generó ingresos por: $8478\n",
      "\n",
      "TCL Smart TV LED 55S425 54.6, 4K Ultra HD, Widescreen, Negro con id: 66 generó ingresos por: $8049\n",
      "\n",
      "SSD Kingston UV500, 480GB, SATA III, mSATA con id: 51 generó ingresos por: $7197\n",
      "\n",
      "Tarjeta Madre AORUS micro ATX B450 AORUS M (rev. 1.0), S-AM4, AMD B450, HDMI, 64GB DDR4 para AMD con id: 31 generó ingresos por: $6687\n",
      "\n",
      "Procesador AMD Ryzen 3 3300X S-AM4, 3.80GHz, Quad-Core, 16MB L2 Cache con id: 1 generó ingresos por: $6038\n",
      "\n",
      "Logitech Audífonos Gamer G635 7.1, Alámbrico, 1.5 Metros, 3.5mm, Negro/Azul con id: 85 generó ingresos por: $4318\n",
      "\n",
      "Tarjeta de Video Asus NVIDIA GeForce GTX 1050 Ti Phoenix, 4GB 128-bit GDDR5, PCI Express 3.0 con id: 13 generó ingresos por: $3989\n",
      "\n",
      "Tarjeta de Video MSI NVIDIA GeForce GTX 1050 Ti OC, 4GB 128-bit GDDR5, PCI Express x16 3.0 con id: 22 generó ingresos por: $3429\n",
      "\n",
      "TV Monitor LED 24TL520S-PU 24, HD, Widescreen, HDMI, Negro con id: 67 generó ingresos por: $3229\n",
      "\n",
      "SSD Crucial MX500, 1TB, SATA III, M.2 con id: 50 generó ingresos por: $2949\n",
      "\n",
      "HyperX Audífonos Gamer Cloud Flight para PC/PS4/PS4 Pro, Inalámbrico, USB, 3.5mm, Negro con id: 94 generó ingresos por: $2869\n",
      "\n",
      "Kit Memoria RAM Corsair Dominator Platinum DDR4, 3200MHz, 16GB (2x 8GB), Non-ECC, CL16, XMP con id: 60 generó ingresos por: $2519\n",
      "\n",
      "Logitech Audífonos Gamer G332, Alámbrico, 2 Metros, 3.5mm, Negro/Rojo con id: 84 generó ingresos por: $1089\n",
      "\n",
      "MSI GeForce 210, 1GB GDDR3, DVI, VGA, HDCP, PCI Express 2.0 con id: 10 generó ingresos por: $889\n",
      "\n",
      "Cougar Audífonos Gamer Phontum Essential, Alámbrico, 1.9 Metros, 3.5mm, Negro. con id: 89 generó ingresos por: $859\n",
      "\n",
      "Tarjeta de Video Gigabyte AMD Radeon R7 370 OC, 2GB 256-bit GDDR5, PCI Express 3.0 con id: 17 generó ingresos por: $0\n",
      "\n",
      "Tarjeta Madre ASRock ATX H110 Pro BTC+, S-1151, Intel H110, 32GB DDR4, para Intel con id: 45 generó ingresos por: $0\n",
      "\n",
      "Tarjeta Madre Gigabyte micro ATX GA-H110M-DS2, S-1151, Intel H110, 32GB DDR4 para Intel con id: 46 generó ingresos por: $0\n",
      "\n"
     ]
    }
   ],
   "source": [
    "\"\"\"Como elemento adicional decidimos generar un diccionario adicional para obtener por id los ingresos netos\n",
    "y ordenarlos del producto que generó los mayores ingresos, al que menos lo hizo\"\"\"\n",
    "dic_ingresos_netos = {key: dic_ingresos[key] - dic_dev.get(key, 0)\n",
    "                       for key in dic_ingresos.keys()}\n",
    "sorted_by_ing = sorted(dic_ingresos_netos.items(), key = lambda v: v[1], reverse = True)\n",
    "for i in sorted_by_ing:\n",
    "         for pr in id_and_prod:\n",
    "            if i[0] == pr[0]:\n",
    "                print(f'{pr[1]} con id: {i[0]} generó ingresos por: ${i[1]}\\n')"
   ]
  },
  {
   "cell_type": "markdown",
   "id": "5cb74c8e",
   "metadata": {},
   "source": [
    "### Meses con mayores ventas, número de ventas promedio mensual e ingreso promedio mensual"
   ]
  },
  {
   "cell_type": "code",
   "execution_count": 16,
   "id": "1bd21c0e",
   "metadata": {
    "ExecuteTime": {
     "end_time": "2022-02-14T01:57:55.830474Z",
     "start_time": "2022-02-14T01:57:55.728714Z"
    }
   },
   "outputs": [
    {
     "name": "stdout",
     "output_type": "stream",
     "text": [
      "El mes de Abril tuvo 74 ventas\n",
      "El mes de Enero tuvo 52 ventas\n",
      "El mes de Marzo tuvo 49 ventas\n",
      "El mes de Febrero tuvo 40 ventas\n",
      "El mes de Mayo tuvo 33 ventas\n",
      "El mes de Julio tuvo 11 ventas\n",
      "El mes de Junio tuvo 11 ventas\n",
      "El mes de Agosto tuvo 3 ventas\n",
      "\n",
      "El mes de Mayo tuvo 2 devoluciones\n",
      "\n",
      "El mes de Marzo tuvo 2 devoluciones\n",
      "\n",
      "El mes de Septiembre tuvo 1 devoluciones\n",
      "\n",
      "El mes de Enero tuvo 1 devoluciones\n",
      "\n",
      "El mes de Abril tuvo 1 devoluciones\n",
      "\n",
      "El mes de Febrero tuvo 1 devoluciones\n",
      "A lo largo del año 2020 se reportaron 273 ventas y 8 devoluciones\n",
      "Obteniendo así un aproximado de 23.0 ventas por mes\n",
      "El ingreso promedio mensual durante 2020 fue de $61471.42\n"
     ]
    }
   ],
   "source": [
    "\"\"\"Por unica excepción, si hubo que generar un diccionario calendario manualmente, ya que no se poseía el nombre\n",
    "correspondiente a cada número de mes, después generamos los diccionarios de ventas y devoluciones ahora teniendo\n",
    "como llave el mes y como valores el numero ventas/devoluciones\"\"\"\n",
    "meses = {1:'Enero', 2:'Febrero', 3:'Marzo', 4:'Abril', 5:'Mayo',\n",
    "        6:'Junio', 7:'Julio', 8:'Agosto', 9:'Septiembre', 10:'Octubre', 11:'Noviembre',12:'Diciembre'}\n",
    "list_month_ndev = []\n",
    "list_month_dev = []\n",
    "for venta in new_sales:\n",
    "    if venta[-1] == anios_dist[0]:\n",
    "        if venta[3] == 0:\n",
    "            list_month_ndev.append(venta[-2])\n",
    "        else:\n",
    "            list_month_dev.append(venta[-2])\n",
    "dic_meses_ventas = {mes : list_month_ndev.count(mes) for mes in list_month_ndev}\n",
    "dic_meses_dev = {mes : list_month_dev.count(mes) for mes in list_month_dev}\n",
    "sorted_mv = sorted(dic_meses_ventas.items(), key = lambda v: v[1], reverse = True)\n",
    "sorted_md = sorted(dic_meses_dev.items(), key = lambda v: v[1], reverse = True)\n",
    "for i in sorted_mv:\n",
    "    for key in meses.keys():\n",
    "        if i[0] == key:\n",
    "            print(f'El mes de {meses[key]} tuvo {i[1]} ventas')\n",
    "for i in sorted_md:\n",
    "    for key in meses.keys():\n",
    "        if i[0] == key:\n",
    "            print(f'\\nEl mes de {meses[key]} tuvo {i[1]} devoluciones')\n",
    "print(f'A lo largo del año 2020 se reportaron {sum(dic_meses_ventas.values())} ventas y {sum(dic_meses_dev.values())} devoluciones')\n",
    "print(f'Obteniendo así un aproximado de {round(sum(dic_meses_ventas.values())/12,0)} ventas por mes')\n",
    "print(f'El ingreso promedio mensual durante 2020 fue de ${round((sum(dic_ingresos.values())-sum(dic_dev.values()))/12,2)}')"
   ]
  },
  {
   "cell_type": "markdown",
   "id": "5cae92ed",
   "metadata": {},
   "source": [
    "### Meses con más ingresos del año"
   ]
  },
  {
   "cell_type": "code",
   "execution_count": 17,
   "id": "0257aed2",
   "metadata": {
    "ExecuteTime": {
     "end_time": "2022-02-14T01:57:55.992325Z",
     "start_time": "2022-02-14T01:57:55.835664Z"
    }
   },
   "outputs": [
    {
     "name": "stdout",
     "output_type": "stream",
     "text": [
      "El mes de Abril tuvo ingresos brutos por $193295\n",
      "El mes de Marzo tuvo ingresos brutos por $164729\n",
      "El mes de Enero tuvo ingresos brutos por $120237\n",
      "El mes de Febrero tuvo ingresos brutos por $110139\n",
      "El mes de Mayo tuvo ingresos brutos por $96135\n",
      "El mes de Junio tuvo ingresos brutos por $36949\n",
      "El mes de Julio tuvo ingresos brutos por $26949\n",
      "El mes de Septiembre tuvo ingresos brutos por $4199\n",
      "El mes de Agosto tuvo ingresos brutos por $3077\n",
      "\n",
      " Ingresos brutos por un total de $755709\n",
      "\n",
      "El mes de Mayo tuvo devoluciones por $4458\n",
      "El mes de Septiembre tuvo devoluciones por $4199\n",
      "El mes de Febrero tuvo devoluciones por $2869\n",
      "El mes de Enero tuvo devoluciones por $2499\n",
      "El mes de Abril tuvo devoluciones por $2229\n",
      "El mes de Marzo tuvo devoluciones por $1798\n",
      "\n",
      " Devoluciones por un total de $18052\n",
      "\n",
      "El mes de Abril tuvo ingresos netos por $191066\n",
      "El mes de Marzo tuvo ingresos netos por $162931\n",
      "El mes de Enero tuvo ingresos netos por $117738\n",
      "El mes de Febrero tuvo ingresos netos por $107270\n",
      "El mes de Mayo tuvo ingresos netos por $91677\n",
      "El mes de Junio tuvo ingresos netos por $36949\n",
      "El mes de Julio tuvo ingresos netos por $26949\n",
      "El mes de Agosto tuvo ingresos netos por $3077\n",
      "El mes de Septiembre tuvo ingresos netos por $0\n",
      "\n",
      " Ingresos netos por un total de $737657\n"
     ]
    }
   ],
   "source": [
    "\"\"\"Agregaremos un campo más a la tabla new_sales que incluira el monto generado por transacción\"\"\"\n",
    "for v in new_sales:\n",
    "    for p in id_prod_price:\n",
    "        if v[1] == p[0]:\n",
    "            v.append(p[2])\n",
    "            \n",
    "\"\"\"A partir de aquí se generara un diccionario que tenga por llaves los meses y como valores la suma de ingresos\n",
    "brutos en el año 2020\"\"\"\n",
    "dic_ingresos_m = {}\n",
    "for venta in new_sales:\n",
    "    if venta[-2] == anios_dist[0]:\n",
    "        if venta[-3] not in dic_ingresos_m.keys():\n",
    "            dic_ingresos_m[venta[-3]] = []\n",
    "        for key in dic_ingresos_m.keys():\n",
    "            if key == venta[-3]:\n",
    "                dic_ingresos_m[venta[-3]].append(venta[-1])\n",
    "for key in dic_ingresos_m.keys():\n",
    "    dic_ingresos_m[key] = sum(dic_ingresos_m[key])\n",
    "    \n",
    "\"\"\"De igual forma que como lo hicimos en diccionarios anteriores, usamos la función sorted con apoyo nuestra función\n",
    "lambda para presentar de los meses donde se reportaron más ingresos a los que menos tuvieron. Finalmente, se pre\n",
    "senta el total de ingresos brutos\"\"\"\n",
    "s_ing_m = sorted(dic_ingresos_m.items(), key = lambda v:v[1], reverse = True)\n",
    "for i in s_ing_m:\n",
    "    for mes in meses.keys():\n",
    "        if i[0] == mes:\n",
    "            print(f'El mes de {meses[mes]} tuvo ingresos brutos por ${i[1]}')\n",
    "print(f'\\n Ingresos brutos por un total de ${sum(dic_ingresos_m.values())}\\n')\n",
    "\n",
    "\"\"\"Generamos un diccionario de devoluciones para presentar los meses con devoluciones, es análogo al\n",
    "dic_ingresos_m. Finalmente se presenta el total de devoluciones\"\"\"\n",
    "dic_dev_m = {}\n",
    "for venta in new_sales:\n",
    "    if venta[-2] == anios_dist[0]:\n",
    "        if venta[3] == 1:\n",
    "            if venta[-3] not in dic_dev_m.keys():\n",
    "                dic_dev_m[venta[-3]] = []\n",
    "            for key in dic_dev_m.keys():\n",
    "                if key == venta[-3]:\n",
    "                    dic_dev_m[venta[-3]].append(venta[-1])\n",
    "for key in dic_dev_m.keys():\n",
    "    dic_dev_m[key] = sum(dic_dev_m[key])\n",
    "s_dev_m = sorted(dic_dev_m.items(), key = lambda v: v[1], reverse = True)\n",
    "for i in s_dev_m:\n",
    "    for mes in meses.keys():\n",
    "        if i[0] == mes:\n",
    "            print(f'El mes de {meses[mes]} tuvo devoluciones por ${i[1]}')\n",
    "print(f'\\n Devoluciones por un total de ${sum(dic_dev_m.values())}\\n')\n",
    "\n",
    "\"\"\"Ahora generamos el diccionario de ingresos netos por mes haciendo la diferencia por mes entre los dos\n",
    "diccionarios anteriores y obtenemos realmente los meses con mayores y menores ventas\"\"\"\n",
    "dic_ingnet_mes = {key: dic_ingresos_m[key] - dic_dev_m.get(key, 0)\n",
    "                       for key in dic_ingresos_m.keys()}\n",
    "s_ingnet_m = sorted(dic_ingnet_mes.items(), key = lambda v: v[1], reverse = True)\n",
    "for i in s_ingnet_m:\n",
    "    for mes in meses.keys():\n",
    "        if i[0] == mes:\n",
    "            print(f'El mes de {meses[mes]} tuvo ingresos netos por ${i[1]}')\n",
    "print(f'\\n Ingresos netos por un total de ${sum(dic_ingnet_mes.values())}')"
   ]
  },
  {
   "cell_type": "markdown",
   "id": "31b054f7",
   "metadata": {},
   "source": [
    "# Solución al problema"
   ]
  },
  {
   "cell_type": "markdown",
   "id": "5760c39a",
   "metadata": {},
   "source": [
    "La solución es retirar del inventario aquellos productos que generaron ingresos por menos \\$1000 ya que solo ocupan espacio dentro del mismo y no generan ganancias, de esta forma podemos considerarlos incluso una pérdida para la empresa de no venderse pronto, por lo que se sugieren 2 posibles opciones: venderlos al costo para evitar perdidas o venderlos al 75\\% del valor inicial para así tener una perdida general del 25\\% antes de que se vuelvan obsoletos y sean prácticamente no objetos de venta. Podemos señalar incluso que nuestra información coincide con los productos cuyo ranking fue bajo.\n",
    "\n",
    "A partir del mes de Mayo, se puede observar que las ventas dentro de la tienda fueron disminuyendo hasta el mes de Agosto, a partir de ahí, el ultimo cuatrimestre del 2020 se observaron 0 ventas; para solucionar este problema, se sugiere hacer campañas de promoción y descuento a partir de los meses de Mayo de 2021 que incentiven a los compradores a no dejar de buscar productos en $LifeStore$."
   ]
  },
  {
   "cell_type": "markdown",
   "id": "6e8b3a65",
   "metadata": {},
   "source": [
    "# Conclusión"
   ]
  },
  {
   "cell_type": "markdown",
   "id": "201dcaa0",
   "metadata": {},
   "source": [
    "Para generar este reporte se utilizaron secuencias de código if, for, else; diccionarios y muchas listas. Por lo que se concluye que se puso en práctica el contenido del curso número 1. La solución para LifeStore ya fue ofrecida con anterioridad."
   ]
  }
 ],
 "metadata": {
  "kernelspec": {
   "display_name": "Python 3 (ipykernel)",
   "language": "python",
   "name": "python3"
  },
  "language_info": {
   "codemirror_mode": {
    "name": "ipython",
    "version": 3
   },
   "file_extension": ".py",
   "mimetype": "text/x-python",
   "name": "python",
   "nbconvert_exporter": "python",
   "pygments_lexer": "ipython3",
   "version": "3.8.10"
  },
  "toc": {
   "base_numbering": 1,
   "nav_menu": {},
   "number_sections": true,
   "sideBar": true,
   "skip_h1_title": false,
   "title_cell": "Table of Contents",
   "title_sidebar": "Contents",
   "toc_cell": false,
   "toc_position": {},
   "toc_section_display": true,
   "toc_window_display": false
  }
 },
 "nbformat": 4,
 "nbformat_minor": 5
}
